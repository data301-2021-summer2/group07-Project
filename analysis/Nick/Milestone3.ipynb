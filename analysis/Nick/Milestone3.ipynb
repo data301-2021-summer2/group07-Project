{
 "cells": [
  {
   "cell_type": "markdown",
   "id": "53f11fcf",
   "metadata": {},
   "source": [
    "# Milestone 3"
   ]
  },
  {
   "cell_type": "code",
   "execution_count": 1,
   "id": "e19b4169",
   "metadata": {},
   "outputs": [],
   "source": [
    "from Scripts import FunctionScript\n",
    "df = FunctionScript.LoadnClean(\"C:\\\\Users\\\\nick3\\\\OneDrive\\\\Desktop\\\\COSC_301\\\\Project2\\\\group07-Project\\\\data\\\\raw\\\\defaultofcreditcardclients.csv\")\n",
    "\n",
    "df"
   ]
  },
  {
   "cell_type": "markdown",
   "id": "a2d3ad43",
   "metadata": {},
   "source": [
    "## Task 1\n",
    "\n",
    "After looking through the issues from Milestone 2, many things were adjusted in milestone 2, including but not limited to:\n",
    "- Editted and filled in all readme files to represent their respective folders.\n",
    "- Commented code to explain my thought process.\n",
    "- Provided more markdown text to explain the data analysis and pipeline steps that I performed.\n",
    "- Added captions and reference for graphs to their importance.\n",
    "- Included a few extra visuals and analysis steps.\n",
    "\n",
    "These changes were done directly to Milestone 2 in this repo. \n",
    "\n",
    "\n",
    "    "
   ]
  },
  {
   "cell_type": "markdown",
   "id": "f36e1c1f",
   "metadata": {},
   "source": [
    "## Task 3"
   ]
  },
  {
   "cell_type": "code",
   "execution_count": 4,
   "id": "4e92e494",
   "metadata": {},
   "outputs": [
    {
     "data": {
      "text/plain": [
       "'C:\\\\Users\\\\nick3\\\\OneDrive\\\\desktop\\\\COSC_301\\\\Project2\\\\group07-Project\\\\analysis\\\\Nick'"
      ]
     },
     "execution_count": 4,
     "metadata": {},
     "output_type": "execute_result"
    }
   ],
   "source": [
    "pwd"
   ]
  },
  {
   "cell_type": "code",
   "execution_count": 5,
   "id": "3610db51",
   "metadata": {},
   "outputs": [],
   "source": [
    "df.to_csv(r'C:\\\\Users\\\\nick3\\\\OneDrive\\\\desktop\\\\COSC_301\\\\Project2\\\\group07-Project\\\\Data\\\\Processed\\\\CleanedForTableau.csv')"
   ]
  },
  {
   "cell_type": "markdown",
   "id": "b4c6302d",
   "metadata": {},
   "source": [
    "## Task 2 and 4 were done via Github and therefore are not represented in this notebook\n",
    "\n",
    "### The data from the previous tasks seems ideal enough as is for manipulation in tableau, therefore, the data was just loaded, and copied to a csv file locally to be used in tableau."
   ]
  },
  {
   "cell_type": "code",
   "execution_count": null,
   "id": "c8354474",
   "metadata": {},
   "outputs": [],
   "source": []
  }
 ],
 "metadata": {
  "kernelspec": {
   "display_name": "Python 3 (ipykernel)",
   "language": "python",
   "name": "python3"
  },
  "language_info": {
   "codemirror_mode": {
    "name": "ipython",
    "version": 3
   },
   "file_extension": ".py",
   "mimetype": "text/x-python",
   "name": "python",
   "nbconvert_exporter": "python",
   "pygments_lexer": "ipython3",
   "version": "3.9.1"
  }
 },
 "nbformat": 4,
 "nbformat_minor": 5
}
