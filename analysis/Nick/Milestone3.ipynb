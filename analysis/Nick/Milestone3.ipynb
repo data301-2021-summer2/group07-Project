{
 "cells": [
  {
   "cell_type": "markdown",
   "id": "72e20098",
   "metadata": {},
   "source": [
    "# Milestone 3"
   ]
  },
  {
   "cell_type": "code",
   "execution_count": 1,
   "id": "cfb1fd01",
   "metadata": {},
   "outputs": [],
   "source": [
    "from Scripts import FunctionScript\n",
    "df = FunctionScript.LoadnClean(\"C:\\\\Users\\\\nick3\\\\OneDrive\\\\Desktop\\\\COSC_301\\\\Project2\\\\group07-Project\\\\data\\\\raw\\\\defaultofcreditcardclients.csv\")\n",
    "\n",
    "df"
   ]
  },
  {
   "cell_type": "code",
   "execution_count": 1,
   "id": "e26bcf69",
   "metadata": {},
   "outputs": [],
   "source": []
  },
  {
   "cell_type": "code",
   "execution_count": 4,
   "id": "0c552086",
   "metadata": {},
   "outputs": [
    {
     "data": {
      "text/plain": [
       "'C:\\\\Users\\\\nick3\\\\OneDrive\\\\desktop\\\\COSC_301\\\\Project2\\\\group07-Project\\\\analysis\\\\Nick'"
      ]
     },
     "execution_count": 4,
     "metadata": {},
     "output_type": "execute_result"
    }
   ],
   "source": [
    "pwd"
   ]
  },
  {
   "cell_type": "code",
   "execution_count": 5,
   "id": "307e2773",
   "metadata": {},
   "outputs": [],
   "source": [
    "df.to_csv(r'C:\\\\Users\\\\nick3\\\\OneDrive\\\\desktop\\\\COSC_301\\\\Project2\\\\group07-Project\\\\Data\\\\Processed\\\\CleanedForTableau.csv')"
   ]
  },
  {
   "cell_type": "markdown",
   "id": "6cc0ac97",
   "metadata": {},
   "source": [
    "### The data from the previous tasks seems ideal enough as is for manipulation in tableau, therefore, the data was just loaded, and copied to a csv file locally to be used in tableau."
   ]
  },
  {
   "cell_type": "code",
   "execution_count": null,
   "id": "43019442",
   "metadata": {},
   "outputs": [],
   "source": []
  }
 ],
 "metadata": {
  "kernelspec": {
   "display_name": "Python 3 (ipykernel)",
   "language": "python",
   "name": "python3"
  },
  "language_info": {
   "codemirror_mode": {
    "name": "ipython",
    "version": 3
   },
   "file_extension": ".py",
   "mimetype": "text/x-python",
   "name": "python",
   "nbconvert_exporter": "python",
   "pygments_lexer": "ipython3",
   "version": "3.9.1"
  }
 },
 "nbformat": 4,
 "nbformat_minor": 5
}
