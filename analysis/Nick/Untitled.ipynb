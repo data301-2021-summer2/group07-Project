{
 "cells": [
  {
   "cell_type": "code",
   "execution_count": null,
   "id": "b62f7c3f",
   "metadata": {},
   "outputs": [],
   "source": [
    "def load_and_process(path):\n",
    "\n",
    "    # Method Chain 1 (Load data and deal with missing data)\n",
    "\n",
    "    df1 = (\n",
    "          pd.read_csv(path)\n",
    "          .rename(columns={\"X1\":\"Credit Limit\",\n",
    "                        \"X2\":\"Sex\",\n",
    "                        \"X3\":\"Education\",\n",
    "                        \"X4\":\"Marital Status\",\n",
    "                        \"X5\":\"Age\",\n",
    "                        \"X6\":\"Pay/Sept07\",\n",
    "                        \"X6\":\"PayStat/Sept05\",\n",
    "                        \"X7\":\"PayStat/Aug05\",\n",
    "                        \"X8\":\"PayStat/Jul05\",\n",
    "                        \"X9\":\"PayStat/Jun05\",\n",
    "                        \"X10\":\"PayStat/May05\",\n",
    "                        \"X11\":\"PayStat/Apr05\",\n",
    "                        \"X12\":\"Outstanding/Sept05\",\n",
    "                        \"X13\":\"Outstanding/Aug05\",\n",
    "                        \"X14\":\"Outstanding/Jul05\",\n",
    "                        \"X15\":\"Outstanding/Jun05\",\n",
    "                        \"X16\":\"Outstanding/May05\",\n",
    "                        \"X17\":\"Outstanding/Apr05\",\n",
    "                        \"X18\":\"Paid/Sept05\",\n",
    "                        \"X19\":\"Paid/Aug05\",\n",
    "                        \"X20\":\"Paid/Jul05\",\n",
    "                        \"X21\":\"Paid/Jun05\",\n",
    "                        \"X22\":\"Paid/May05\",\n",
    "                        \"X23\":\"Paid/Apr05\",\n",
    "                        \"Y\":\"Default\"\n",
    "                       }\n",
    "              )\n",
    "            .apply(pd.to_numeric)\n",
    "        \n",
    "      )\n",
    "\n",
    "    # Method Chain 2 (Create new columns, drop others, and do processing)\n",
    "\n",
    "    df2 = (\n",
    "          df1\n",
    "          .assign(...)\n",
    "      )\n",
    "\n",
    "    # Make sure to return the latest dataframe\n",
    "\n",
    "    return df2 \n"
   ]
  }
 ],
 "metadata": {
  "kernelspec": {
   "display_name": "Python 3 (ipykernel)",
   "language": "python",
   "name": "python3"
  },
  "language_info": {
   "codemirror_mode": {
    "name": "ipython",
    "version": 3
   },
   "file_extension": ".py",
   "mimetype": "text/x-python",
   "name": "python",
   "nbconvert_exporter": "python",
   "pygments_lexer": "ipython3",
   "version": "3.9.1"
  }
 },
 "nbformat": 4,
 "nbformat_minor": 5
}
