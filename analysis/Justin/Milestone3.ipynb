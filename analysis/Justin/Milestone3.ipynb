{
 "cells": [
  {
   "cell_type": "markdown",
   "id": "53f11fcf",
   "metadata": {},
   "source": [
    "# Milestone 3"
   ]
  },
  {
   "cell_type": "code",
   "execution_count": 2,
   "id": "e19b4169",
   "metadata": {},
   "outputs": [
    {
     "data": {
      "text/html": [
       "<div>\n",
       "<style scoped>\n",
       "    .dataframe tbody tr th:only-of-type {\n",
       "        vertical-align: middle;\n",
       "    }\n",
       "\n",
       "    .dataframe tbody tr th {\n",
       "        vertical-align: top;\n",
       "    }\n",
       "\n",
       "    .dataframe thead th {\n",
       "        text-align: right;\n",
       "    }\n",
       "</style>\n",
       "<table border=\"1\" class=\"dataframe\">\n",
       "  <thead>\n",
       "    <tr style=\"text-align: right;\">\n",
       "      <th></th>\n",
       "      <th>Sex</th>\n",
       "      <th>Education</th>\n",
       "      <th>Marital Status</th>\n",
       "      <th>Age</th>\n",
       "      <th>Credit Limit</th>\n",
       "      <th>Payment Score</th>\n",
       "      <th>Avg Outstanding</th>\n",
       "      <th>Avg Paid</th>\n",
       "      <th>Default</th>\n",
       "    </tr>\n",
       "  </thead>\n",
       "  <tbody>\n",
       "    <tr>\n",
       "      <th>0</th>\n",
       "      <td>F</td>\n",
       "      <td>BSc</td>\n",
       "      <td>Married</td>\n",
       "      <td>24</td>\n",
       "      <td>20000</td>\n",
       "      <td>0.666667</td>\n",
       "      <td>1284.000000</td>\n",
       "      <td>114.833333</td>\n",
       "      <td>True</td>\n",
       "    </tr>\n",
       "    <tr>\n",
       "      <th>1</th>\n",
       "      <td>F</td>\n",
       "      <td>BSc</td>\n",
       "      <td>Single</td>\n",
       "      <td>26</td>\n",
       "      <td>120000</td>\n",
       "      <td>1.500000</td>\n",
       "      <td>2846.166667</td>\n",
       "      <td>833.333333</td>\n",
       "      <td>True</td>\n",
       "    </tr>\n",
       "    <tr>\n",
       "      <th>2</th>\n",
       "      <td>F</td>\n",
       "      <td>BSc</td>\n",
       "      <td>Single</td>\n",
       "      <td>34</td>\n",
       "      <td>90000</td>\n",
       "      <td>1.000000</td>\n",
       "      <td>16942.166667</td>\n",
       "      <td>1836.333333</td>\n",
       "      <td>False</td>\n",
       "    </tr>\n",
       "    <tr>\n",
       "      <th>3</th>\n",
       "      <td>F</td>\n",
       "      <td>BSc</td>\n",
       "      <td>Married</td>\n",
       "      <td>37</td>\n",
       "      <td>50000</td>\n",
       "      <td>1.000000</td>\n",
       "      <td>38555.666667</td>\n",
       "      <td>1398.000000</td>\n",
       "      <td>False</td>\n",
       "    </tr>\n",
       "    <tr>\n",
       "      <th>4</th>\n",
       "      <td>M</td>\n",
       "      <td>BSc</td>\n",
       "      <td>Married</td>\n",
       "      <td>57</td>\n",
       "      <td>50000</td>\n",
       "      <td>0.666667</td>\n",
       "      <td>18223.166667</td>\n",
       "      <td>9841.500000</td>\n",
       "      <td>False</td>\n",
       "    </tr>\n",
       "  </tbody>\n",
       "</table>\n",
       "</div>"
      ],
      "text/plain": [
       "  Sex Education Marital Status  Age  Credit Limit  Payment Score  \\\n",
       "0   F       BSc        Married   24         20000       0.666667   \n",
       "1   F       BSc         Single   26        120000       1.500000   \n",
       "2   F       BSc         Single   34         90000       1.000000   \n",
       "3   F       BSc        Married   37         50000       1.000000   \n",
       "4   M       BSc        Married   57         50000       0.666667   \n",
       "\n",
       "   Avg Outstanding     Avg Paid  Default  \n",
       "0      1284.000000   114.833333     True  \n",
       "1      2846.166667   833.333333     True  \n",
       "2     16942.166667  1836.333333    False  \n",
       "3     38555.666667  1398.000000    False  \n",
       "4     18223.166667  9841.500000    False  "
      ]
     },
     "execution_count": 2,
     "metadata": {},
     "output_type": "execute_result"
    }
   ],
   "source": [
    "from scripts import FunctionScript\n",
    "df = FunctionScript.LoadnClean('G:\\\\COSC301\\\\project\\\\group07-Project\\\\data\\\\raw\\\\defaultofcreditcardclients.csv')\n",
    "df.head()"
   ]
  },
  {
   "cell_type": "markdown",
   "id": "a2d3ad43",
   "metadata": {},
   "source": [
    "## Task 1\n",
    " As a group we reviewed the feedback and acted upon it accordingly. We decided to redo Milestone 2 since our grade was far below our standards and expectations. As such, the entire repo is now updated.\n",
    "\n",
    "\n",
    "    "
   ]
  },
  {
   "cell_type": "markdown",
   "id": "f36e1c1f",
   "metadata": {},
   "source": [
    "## Task 3"
   ]
  },
  {
   "cell_type": "markdown",
   "id": "ec21bc6b-7add-4841-9624-f66144e3f0a7",
   "metadata": {},
   "source": [
    "The data used in previous milestones was functional and processed well enough for the tableau exploration. Therefore, a new csv is made following the same pipeline."
   ]
  },
  {
   "cell_type": "code",
   "execution_count": 4,
   "id": "3610db51",
   "metadata": {},
   "outputs": [],
   "source": [
    "df.to_csv(r'G:\\\\COSC301\\\\project\\\\group07-Project\\\\data\\\\processed\\\\JustinTableau.csv')"
   ]
  },
  {
   "cell_type": "markdown",
   "id": "b4c6302d",
   "metadata": {},
   "source": [
    "## Task 2 and 4 were done via Github and Tableau collectively.\n"
   ]
  },
  {
   "cell_type": "code",
   "execution_count": null,
   "id": "c8354474",
   "metadata": {},
   "outputs": [],
   "source": []
  }
 ],
 "metadata": {
  "kernelspec": {
   "display_name": "Python 3 (ipykernel)",
   "language": "python",
   "name": "python3"
  },
  "language_info": {
   "codemirror_mode": {
    "name": "ipython",
    "version": 3
   },
   "file_extension": ".py",
   "mimetype": "text/x-python",
   "name": "python",
   "nbconvert_exporter": "python",
   "pygments_lexer": "ipython3",
   "version": "3.9.1"
  }
 },
 "nbformat": 4,
 "nbformat_minor": 5
}
