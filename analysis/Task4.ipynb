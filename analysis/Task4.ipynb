{
 "cells": [
  {
   "cell_type": "markdown",
   "id": "0f24222d",
   "metadata": {},
   "source": [
    "# Task 4: Analysis and Answering of Research Questions"
   ]
  },
  {
   "cell_type": "markdown",
   "id": "d167f2d4",
   "metadata": {},
   "source": [
    "## The following questions were chosen to be answered by the exploritory data of this dataset:\n",
    "\n",
    "### 1: What is the most likely age for someone to default on their credit card payments?\n",
    "### 2: How often should you pay your credit card bill to be considered a \"safe lender\"?\n",
    "### 3: Is there any correlation to having a large credit limit and probabilty of defaulting?\n"
   ]
  },
  {
   "cell_type": "markdown",
   "id": "96934a5a",
   "metadata": {},
   "source": [
    "------------------------------------------------------------------------------"
   ]
  },
  {
   "cell_type": "markdown",
   "id": "1d2acdd8",
   "metadata": {},
   "source": [
    "### Question 1:"
   ]
  },
  {
   "cell_type": "code",
   "execution_count": null,
   "id": "441a2ed2",
   "metadata": {},
   "outputs": [],
   "source": []
  },
  {
   "cell_type": "markdown",
   "id": "f102cf32",
   "metadata": {},
   "source": [
    "### Question 2:"
   ]
  },
  {
   "cell_type": "code",
   "execution_count": null,
   "id": "dcdc8975",
   "metadata": {},
   "outputs": [],
   "source": []
  },
  {
   "cell_type": "markdown",
   "id": "b4ecc944",
   "metadata": {},
   "source": [
    "### Question 3:"
   ]
  },
  {
   "cell_type": "code",
   "execution_count": null,
   "id": "2a992329",
   "metadata": {},
   "outputs": [],
   "source": []
  }
 ],
 "metadata": {
  "kernelspec": {
   "display_name": "Python 3 (ipykernel)",
   "language": "python",
   "name": "python3"
  },
  "language_info": {
   "codemirror_mode": {
    "name": "ipython",
    "version": 3
   },
   "file_extension": ".py",
   "mimetype": "text/x-python",
   "name": "python",
   "nbconvert_exporter": "python",
   "pygments_lexer": "ipython3",
   "version": "3.9.1"
  }
 },
 "nbformat": 4,
 "nbformat_minor": 5
}
