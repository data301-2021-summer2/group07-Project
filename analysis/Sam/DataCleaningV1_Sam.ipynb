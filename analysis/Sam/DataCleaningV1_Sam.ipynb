{
 "cells": [
  {
   "cell_type": "code",
   "execution_count": 1,
   "id": "343d29ed",
   "metadata": {},
   "outputs": [],
   "source": [
    "import pandas as pd\n",
    "import seaborn as sns\n",
    "import matplotlib as plt\n",
    "import numpy as np"
   ]
  },
  {
   "cell_type": "code",
   "execution_count": 2,
   "id": "48ea48e6",
   "metadata": {},
   "outputs": [],
   "source": [
    "df = pd.read_csv('C:\\\\Users\\\\samff\\\\Cosc301Path\\\\group07-Project\\\\data\\\\processed\\\\ReadableDefaultOfCreditCardClients.csv')"
   ]
  },
  {
   "cell_type": "code",
   "execution_count": 3,
   "id": "7ec5f403",
   "metadata": {},
   "outputs": [
    {
     "data": {
      "text/plain": [
       "<AxesSubplot:xlabel='count', ylabel='Default'>"
      ]
     },
     "execution_count": 3,
     "metadata": {},
     "output_type": "execute_result"
    },
    {
     "data": {
      "image/png": "[encoded data removed]",
      "text/plain": [
       "<Figure size 432x288 with 1 Axes>"
      ]
     },
     "metadata": {
      "needs_background": "light"
     },
     "output_type": "display_data"
    }
   ],
   "source": [
    "sns.countplot(y = \"Default\",data = df,hue=\"Sex\")"
   ]
  },
  {
   "cell_type": "code",
   "execution_count": 4,
   "id": "1aa78b79",
   "metadata": {},
   "outputs": [
    {
     "data": {
      "text/plain": [
       "<AxesSubplot:xlabel='count', ylabel='Default'>"
      ]
     },
     "execution_count": 4,
     "metadata": {},
     "output_type": "execute_result"
    },
    {
     "data": {
      "image/png": "[encoded data removed]",
      "text/plain": [
       "<Figure size 432x288 with 1 Axes>"
      ]
     },
     "metadata": {
      "needs_background": "light"
     },
     "output_type": "display_data"
    }
   ],
   "source": [
    "sns.countplot(y = \"Default\",data = df,hue=\"Education\")"
   ]
  },
  {
   "cell_type": "code",
   "execution_count": 5,
   "id": "b72364fc",
   "metadata": {},
   "outputs": [
    {
     "data": {
      "text/plain": [
       "<AxesSubplot:xlabel='count', ylabel='Sex'>"
      ]
     },
     "execution_count": 5,
     "metadata": {},
     "output_type": "execute_result"
    },
    {
     "data": {
      "image/png": "[encoded data removed]",
      "text/plain": [
       "<Figure size 432x288 with 1 Axes>"
      ]
     },
     "metadata": {
      "needs_background": "light"
     },
     "output_type": "display_data"
    }
   ],
   "source": [
    "sns.countplot(y = \"Sex\",data = df)\n"
   ]
  },
  {
   "cell_type": "code",
   "execution_count": 6,
   "id": "de886208",
   "metadata": {},
   "outputs": [
    {
     "name": "stdout",
     "output_type": "stream",
     "text": [
      "       Unnamed: 0  Credit Limit Sex Education Marital Status  Age  \\\n",
      "0               1         20000   F       BSc        Married   24   \n",
      "1               2        120000   F       BSc         Single   26   \n",
      "13             14         70000   M       BSc         Single   30   \n",
      "21             22        120000   F       BSc        Married   39   \n",
      "22             23         70000   F       BSc         Single   26   \n",
      "...           ...           ...  ..       ...            ...  ...   \n",
      "29637       29983         90000   M       BSc        Married   36   \n",
      "29646       29992        210000   M       BSc        Married   34   \n",
      "29649       29995         80000   M       BSc         Single   34   \n",
      "29652       29998         30000   M       BSc         Single   37   \n",
      "29654       30000         50000   M       BSc        Married   46   \n",
      "\n",
      "       PayStat/Sept05  PayStat/Aug05  PayStat/Jul05  PayStat/Jun05  ...  \\\n",
      "0                   2              2             -1             -1  ...   \n",
      "1                  -1              2              0              0  ...   \n",
      "13                  1              2              2              0  ...   \n",
      "21                 -1             -1             -1             -1  ...   \n",
      "22                  2              0              0              2  ...   \n",
      "...               ...            ...            ...            ...  ...   \n",
      "29637               0              0              0              0  ...   \n",
      "29646               3              2              2              2  ...   \n",
      "29649               2              2              2              2  ...   \n",
      "29652               4              3              2             -1  ...   \n",
      "29654               0              0              0              0  ...   \n",
      "\n",
      "       Outstanding/Jun05  Outstanding/May05  Outstanding/Apr05  Paid/Sept05  \\\n",
      "0                      0                  0                  0            0   \n",
      "1                   3272               3455               3261            0   \n",
      "13                 66782              36137              36894         3200   \n",
      "21                     0                632                316          316   \n",
      "22                 44006              46905              46012         2007   \n",
      "...                  ...                ...                ...          ...   \n",
      "29637              11328              12036              14329         1500   \n",
      "29646               2500               2500               2500            0   \n",
      "29649              77519              82607              81158         7000   \n",
      "29652              20878              20582              19357            0   \n",
      "29654              36535              32428              15313         2078   \n",
      "\n",
      "       Paid/Aug05  Paid/Jul05  Paid/Jun05  Paid/May05  Paid/Apr05  Default  \n",
      "0             689           0           0           0           0     True  \n",
      "1            1000        1000        1000           0        2000     True  \n",
      "13              0        3000        3000        1500           0     True  \n",
      "21            316           0         632         316           0     True  \n",
      "22           3582           0        3601           0        1820     True  \n",
      "...           ...         ...         ...         ...         ...      ...  \n",
      "29637        1500        1500        1200        2500           0     True  \n",
      "29646           0           0           0           0           0     True  \n",
      "29649        3500           0        7000           0        4000     True  \n",
      "29652           0       22000        4200        2000        3100     True  \n",
      "29654        1800        1430        1000        1000        1000     True  \n",
      "\n",
      "[3330 rows x 25 columns]\n"
     ]
    }
   ],
   "source": [
    "dfSamp1 = df[df['Education']=='BSc']\n",
    "UnderGrads = dfSamp1.count()\n",
    "dfSamp1 = dfSamp1[dfSamp1[\"Default\"]==True]\n",
    "print(dfSamp1)\n",
    "\n",
    "\n"
   ]
  },
  {
   "cell_type": "code",
   "execution_count": 7,
   "id": "be5d0a58",
   "metadata": {},
   "outputs": [
    {
     "name": "stdout",
     "output_type": "stream",
     "text": [
      "35.71225416036309\n",
      "35.398394445649814\n",
      "Unnamed: 0            6610\n",
      "Credit Limit          6610\n",
      "Sex                   6610\n",
      "Education             6610\n",
      "Marital Status        6610\n",
      "Age                   6610\n",
      "PayStat/Sept05        6610\n",
      "PayStat/Aug05         6610\n",
      "PayStat/Jul05         6610\n",
      "PayStat/Jun05         6610\n",
      "PayStat/May05         6610\n",
      "PayStat/Apr05         6610\n",
      "Outstanding/Sept05    6610\n",
      "Outstanding/Aug05     6610\n",
      "Outstanding/Jul05     6610\n",
      "Outstanding/Jun05     6610\n",
      "Outstanding/May05     6610\n",
      "Outstanding/Apr05     6610\n",
      "Paid/Sept05           6610\n",
      "Paid/Aug05            6610\n",
      "Paid/Jul05            6610\n",
      "Paid/Jun05            6610\n",
      "Paid/May05            6610\n",
      "Paid/Apr05            6610\n",
      "Default               6610\n",
      "dtype: int64\n",
      "Unnamed: 0            3330\n",
      "Credit Limit          3330\n",
      "Sex                   3330\n",
      "Education             3330\n",
      "Marital Status        3330\n",
      "Age                   3330\n",
      "PayStat/Sept05        3330\n",
      "PayStat/Aug05         3330\n",
      "PayStat/Jul05         3330\n",
      "PayStat/Jun05         3330\n",
      "PayStat/May05         3330\n",
      "PayStat/Apr05         3330\n",
      "Outstanding/Sept05    3330\n",
      "Outstanding/Aug05     3330\n",
      "Outstanding/Jul05     3330\n",
      "Outstanding/Jun05     3330\n",
      "Outstanding/May05     3330\n",
      "Outstanding/Apr05     3330\n",
      "Paid/Sept05           3330\n",
      "Paid/Aug05            3330\n",
      "Paid/Jul05            3330\n",
      "Paid/Jun05            3330\n",
      "Paid/May05            3330\n",
      "Paid/Apr05            3330\n",
      "Default               3330\n",
      "dtype: int64\n"
     ]
    }
   ],
   "source": [
    "Defaults = df[df[\"Default\"]==True]    # customers who default payments\n",
    "print(Defaults[\"Age\"].mean())         # avg age of customers who default paments\n",
    "NoDefaults = df[df[\"Default\"]==False] # customers who DON'T default payments\n",
    "print(NoDefaults[\"Age\"].mean())       # avg age of customers who DON'T default payments\n",
    "print(Defaults.count())               # Number of customers who default payments\n",
    "print(Defaults[Defaults[\"Education\"]==\"BSc\"].count())#Number of default with BSc.\n",
    "BScDefaultPercent = Defaults[\"Default\"]"
   ]
  },
  {
   "cell_type": "code",
   "execution_count": 8,
   "id": "5ba754f5",
   "metadata": {},
   "outputs": [
    {
     "data": {
      "text/html": [
       "<div>\n",
       "<style scoped>\n",
       "    .dataframe tbody tr th:only-of-type {\n",
       "        vertical-align: middle;\n",
       "    }\n",
       "\n",
       "    .dataframe tbody tr th {\n",
       "        vertical-align: top;\n",
       "    }\n",
       "\n",
       "    .dataframe thead th {\n",
       "        text-align: right;\n",
       "    }\n",
       "</style>\n",
       "<table border=\"1\" class=\"dataframe\">\n",
       "  <thead>\n",
       "    <tr style=\"text-align: right;\">\n",
       "      <th></th>\n",
       "      <th>Unnamed: 0</th>\n",
       "      <th>Credit Limit</th>\n",
       "      <th>Sex</th>\n",
       "      <th>Education</th>\n",
       "      <th>Marital Status</th>\n",
       "      <th>Age</th>\n",
       "      <th>PayStat/Sept05</th>\n",
       "      <th>PayStat/Aug05</th>\n",
       "      <th>PayStat/Jul05</th>\n",
       "      <th>PayStat/Jun05</th>\n",
       "      <th>...</th>\n",
       "      <th>Outstanding/Jun05</th>\n",
       "      <th>Outstanding/May05</th>\n",
       "      <th>Outstanding/Apr05</th>\n",
       "      <th>Paid/Sept05</th>\n",
       "      <th>Paid/Aug05</th>\n",
       "      <th>Paid/Jul05</th>\n",
       "      <th>Paid/Jun05</th>\n",
       "      <th>Paid/May05</th>\n",
       "      <th>Paid/Apr05</th>\n",
       "      <th>Default</th>\n",
       "    </tr>\n",
       "  </thead>\n",
       "  <tbody>\n",
       "    <tr>\n",
       "      <th>0</th>\n",
       "      <td>1</td>\n",
       "      <td>20000</td>\n",
       "      <td>F</td>\n",
       "      <td>BSc</td>\n",
       "      <td>Married</td>\n",
       "      <td>24</td>\n",
       "      <td>2</td>\n",
       "      <td>2</td>\n",
       "      <td>-1</td>\n",
       "      <td>-1</td>\n",
       "      <td>...</td>\n",
       "      <td>0</td>\n",
       "      <td>0</td>\n",
       "      <td>0</td>\n",
       "      <td>0</td>\n",
       "      <td>689</td>\n",
       "      <td>0</td>\n",
       "      <td>0</td>\n",
       "      <td>0</td>\n",
       "      <td>0</td>\n",
       "      <td>True</td>\n",
       "    </tr>\n",
       "    <tr>\n",
       "      <th>1</th>\n",
       "      <td>2</td>\n",
       "      <td>120000</td>\n",
       "      <td>F</td>\n",
       "      <td>BSc</td>\n",
       "      <td>Single</td>\n",
       "      <td>26</td>\n",
       "      <td>-1</td>\n",
       "      <td>2</td>\n",
       "      <td>0</td>\n",
       "      <td>0</td>\n",
       "      <td>...</td>\n",
       "      <td>3272</td>\n",
       "      <td>3455</td>\n",
       "      <td>3261</td>\n",
       "      <td>0</td>\n",
       "      <td>1000</td>\n",
       "      <td>1000</td>\n",
       "      <td>1000</td>\n",
       "      <td>0</td>\n",
       "      <td>2000</td>\n",
       "      <td>True</td>\n",
       "    </tr>\n",
       "    <tr>\n",
       "      <th>2</th>\n",
       "      <td>3</td>\n",
       "      <td>90000</td>\n",
       "      <td>F</td>\n",
       "      <td>BSc</td>\n",
       "      <td>Single</td>\n",
       "      <td>34</td>\n",
       "      <td>0</td>\n",
       "      <td>0</td>\n",
       "      <td>0</td>\n",
       "      <td>0</td>\n",
       "      <td>...</td>\n",
       "      <td>14331</td>\n",
       "      <td>14948</td>\n",
       "      <td>15549</td>\n",
       "      <td>1518</td>\n",
       "      <td>1500</td>\n",
       "      <td>1000</td>\n",
       "      <td>1000</td>\n",
       "      <td>1000</td>\n",
       "      <td>5000</td>\n",
       "      <td>False</td>\n",
       "    </tr>\n",
       "    <tr>\n",
       "      <th>3</th>\n",
       "      <td>4</td>\n",
       "      <td>50000</td>\n",
       "      <td>F</td>\n",
       "      <td>BSc</td>\n",
       "      <td>Married</td>\n",
       "      <td>37</td>\n",
       "      <td>0</td>\n",
       "      <td>0</td>\n",
       "      <td>0</td>\n",
       "      <td>0</td>\n",
       "      <td>...</td>\n",
       "      <td>28314</td>\n",
       "      <td>28959</td>\n",
       "      <td>29547</td>\n",
       "      <td>2000</td>\n",
       "      <td>2019</td>\n",
       "      <td>1200</td>\n",
       "      <td>1100</td>\n",
       "      <td>1069</td>\n",
       "      <td>1000</td>\n",
       "      <td>False</td>\n",
       "    </tr>\n",
       "    <tr>\n",
       "      <th>4</th>\n",
       "      <td>5</td>\n",
       "      <td>50000</td>\n",
       "      <td>M</td>\n",
       "      <td>BSc</td>\n",
       "      <td>Married</td>\n",
       "      <td>57</td>\n",
       "      <td>-1</td>\n",
       "      <td>0</td>\n",
       "      <td>-1</td>\n",
       "      <td>0</td>\n",
       "      <td>...</td>\n",
       "      <td>20940</td>\n",
       "      <td>19146</td>\n",
       "      <td>19131</td>\n",
       "      <td>2000</td>\n",
       "      <td>36681</td>\n",
       "      <td>10000</td>\n",
       "      <td>9000</td>\n",
       "      <td>689</td>\n",
       "      <td>679</td>\n",
       "      <td>False</td>\n",
       "    </tr>\n",
       "  </tbody>\n",
       "</table>\n",
       "<p>5 rows × 25 columns</p>\n",
       "</div>"
      ],
      "text/plain": [
       "   Unnamed: 0  Credit Limit Sex Education Marital Status  Age  PayStat/Sept05  \\\n",
       "0           1         20000   F       BSc        Married   24               2   \n",
       "1           2        120000   F       BSc         Single   26              -1   \n",
       "2           3         90000   F       BSc         Single   34               0   \n",
       "3           4         50000   F       BSc        Married   37               0   \n",
       "4           5         50000   M       BSc        Married   57              -1   \n",
       "\n",
       "   PayStat/Aug05  PayStat/Jul05  PayStat/Jun05  ...  Outstanding/Jun05  \\\n",
       "0              2             -1             -1  ...                  0   \n",
       "1              2              0              0  ...               3272   \n",
       "2              0              0              0  ...              14331   \n",
       "3              0              0              0  ...              28314   \n",
       "4              0             -1              0  ...              20940   \n",
       "\n",
       "   Outstanding/May05  Outstanding/Apr05  Paid/Sept05  Paid/Aug05  Paid/Jul05  \\\n",
       "0                  0                  0            0         689           0   \n",
       "1               3455               3261            0        1000        1000   \n",
       "2              14948              15549         1518        1500        1000   \n",
       "3              28959              29547         2000        2019        1200   \n",
       "4              19146              19131         2000       36681       10000   \n",
       "\n",
       "   Paid/Jun05  Paid/May05  Paid/Apr05  Default  \n",
       "0           0           0           0     True  \n",
       "1        1000           0        2000     True  \n",
       "2        1000        1000        5000    False  \n",
       "3        1100        1069        1000    False  \n",
       "4        9000         689         679    False  \n",
       "\n",
       "[5 rows x 25 columns]"
      ]
     },
     "execution_count": 8,
     "metadata": {},
     "output_type": "execute_result"
    }
   ],
   "source": [
    "df.head()"
   ]
  },
  {
   "cell_type": "code",
   "execution_count": 9,
   "id": "8c857006",
   "metadata": {},
   "outputs": [
    {
     "data": {
      "text/plain": [
       "<AxesSubplot:xlabel='count', ylabel='Default'>"
      ]
     },
     "execution_count": 9,
     "metadata": {},
     "output_type": "execute_result"
    },
    {
     "data": {
      "image/png": "[encoded data removed]",
      "text/plain": [
       "<Figure size 432x288 with 1 Axes>"
      ]
     },
     "metadata": {
      "needs_background": "light"
     },
     "output_type": "display_data"
    }
   ],
   "source": [
    "sns.countplot(y = \"Default\",data = df,hue=\"Marital Status\")"
   ]
  },
  {
   "cell_type": "code",
   "execution_count": 10,
   "id": "105a6d21",
   "metadata": {},
   "outputs": [
    {
     "data": {
      "text/plain": [
       "<AxesSubplot:xlabel='count', ylabel='Default'>"
      ]
     },
     "execution_count": 10,
     "metadata": {},
     "output_type": "execute_result"
    },
    {
     "data": {
      "image/png": "[encoded data removed]",
      "text/plain": [
       "<Figure size 432x288 with 1 Axes>"
      ]
     },
     "metadata": {
      "needs_background": "light"
     },
     "output_type": "display_data"
    }
   ],
   "source": [
    "sns.countplot(y = \"Default\",data = df,hue=\"Sex\")"
   ]
  },
  {
   "cell_type": "code",
   "execution_count": null,
   "id": "fb85e5ec",
   "metadata": {},
   "outputs": [],
   "source": []
  }
 ],
 "metadata": {
  "kernelspec": {
   "display_name": "Python 3 (ipykernel)",
   "language": "python",
   "name": "python3"
  },
  "language_info": {
   "codemirror_mode": {
    "name": "ipython",
    "version": 3
   },
   "file_extension": ".py",
   "mimetype": "text/x-python",
   "name": "python",
   "nbconvert_exporter": "python",
   "pygments_lexer": "ipython3",
   "version": "3.8.5"
  }
 },
 "nbformat": 4,
 "nbformat_minor": 5
}
