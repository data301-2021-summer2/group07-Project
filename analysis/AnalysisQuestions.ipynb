{
 "cells": [
  {
   "cell_type": "markdown",
   "id": "47d26548",
   "metadata": {},
   "source": [
    "# Task 4: Analysis and Answering of Research Questions"
   ]
  },
  {
   "cell_type": "markdown",
   "id": "374046b5",
   "metadata": {},
   "source": [
    "## The following questions were chosen to be answered by the exploritory data of this dataset:\n",
    "\n",
    "### 1: What is the most likely age for someone to default on their credit card payments?\n",
    "### 2: How often should you pay your credit card bill to be considered a \"safe lender\"?\n",
    "### 3: Is there any correlation to having a large credit limit and probabilty of defaulting, does gender affect it?\n"
   ]
  },
  {
   "cell_type": "markdown",
   "id": "ed161066",
   "metadata": {},
   "source": [
    "------------------------------------------------------------------------------"
   ]
  },
  {
   "cell_type": "code",
   "execution_count": 1,
   "id": "f07604b2",
   "metadata": {},
   "outputs": [],
   "source": [
    "import pandas as pd\n",
    "import seaborn as sns\n",
    "import matplotlib.pyplot as plt\n",
    "import numpy as np"
   ]
  },
  {
   "cell_type": "markdown",
   "id": "e99d6f77",
   "metadata": {},
   "source": [
    "### *Question 1:** What is the most likely age for someone to default on their credit card payments?"
   ]
  },
  {
   "cell_type": "code",
   "execution_count": 2,
   "id": "2fa85003",
   "metadata": {},
   "outputs": [
    {
     "ename": "AttributeError",
     "evalue": "'NoneType' object has no attribute 'dropna'",
     "output_type": "error",
     "traceback": [
      "\u001b[1;31m---------------------------------------------------------------------------\u001b[0m",
      "\u001b[1;31mAttributeError\u001b[0m                            Traceback (most recent call last)",
      "\u001b[1;32m~\\AppData\\Local\\Temp/ipykernel_22192/3077029982.py\u001b[0m in \u001b[0;36m<module>\u001b[1;34m\u001b[0m\n\u001b[0;32m      1\u001b[0m \u001b[1;32mimport\u001b[0m \u001b[0mFunctionScript\u001b[0m\u001b[1;33m\u001b[0m\u001b[1;33m\u001b[0m\u001b[0m\n\u001b[1;32m----> 2\u001b[1;33m \u001b[0mdf\u001b[0m \u001b[1;33m=\u001b[0m \u001b[0mFunctionScript\u001b[0m\u001b[1;33m.\u001b[0m\u001b[0mLoadnClean\u001b[0m\u001b[1;33m(\u001b[0m\u001b[1;34m\"C:\\\\Users\\\\nick3\\\\OneDrive\\\\Desktop\\\\COSC_301\\\\Project2\\\\group07-Project\\\\data\\\\raw\\\\defaultofcreditcardclients.csv\"\u001b[0m\u001b[1;33m)\u001b[0m\u001b[1;33m\u001b[0m\u001b[1;33m\u001b[0m\u001b[0m\n\u001b[0m\u001b[0;32m      3\u001b[0m \u001b[0mplt\u001b[0m\u001b[1;33m.\u001b[0m\u001b[0msubplots\u001b[0m\u001b[1;33m(\u001b[0m\u001b[0mfigsize\u001b[0m\u001b[1;33m=\u001b[0m\u001b[1;33m(\u001b[0m\u001b[1;36m30\u001b[0m\u001b[1;33m,\u001b[0m \u001b[1;36m10\u001b[0m\u001b[1;33m)\u001b[0m\u001b[1;33m)\u001b[0m\u001b[1;33m\u001b[0m\u001b[1;33m\u001b[0m\u001b[0m\n\u001b[0;32m      4\u001b[0m \u001b[0mplot\u001b[0m \u001b[1;33m=\u001b[0m \u001b[0msns\u001b[0m\u001b[1;33m.\u001b[0m\u001b[0mcountplot\u001b[0m\u001b[1;33m(\u001b[0m\u001b[0mx\u001b[0m\u001b[1;33m=\u001b[0m\u001b[1;34m\"Age\"\u001b[0m\u001b[1;33m,\u001b[0m \u001b[0mhue\u001b[0m\u001b[1;33m=\u001b[0m\u001b[1;34m\"Default\"\u001b[0m\u001b[1;33m,\u001b[0m \u001b[0mdata\u001b[0m\u001b[1;33m=\u001b[0m\u001b[0mdf\u001b[0m\u001b[1;33m)\u001b[0m\u001b[1;33m\u001b[0m\u001b[1;33m\u001b[0m\u001b[0m\n\u001b[0;32m      5\u001b[0m \u001b[0mplt\u001b[0m\u001b[1;33m.\u001b[0m\u001b[0mylabel\u001b[0m\u001b[1;33m(\u001b[0m\u001b[1;34m'Count of Defaults'\u001b[0m\u001b[1;33m,\u001b[0m\u001b[0mfontsize\u001b[0m\u001b[1;33m=\u001b[0m\u001b[1;36m18\u001b[0m\u001b[1;33m)\u001b[0m\u001b[1;33m\u001b[0m\u001b[1;33m\u001b[0m\u001b[0m\n",
      "\u001b[1;32m~\\OneDrive\\desktop\\COSC_301\\Project2\\group07-Project\\analysis\\FunctionScript.py\u001b[0m in \u001b[0;36mLoadnClean\u001b[1;34m(path)\u001b[0m\n\u001b[0;32m     11\u001b[0m \u001b[1;33m\u001b[0m\u001b[0m\n\u001b[0;32m     12\u001b[0m     df1 = ( \n\u001b[1;32m---> 13\u001b[1;33m                 \u001b[0mpd\u001b[0m\u001b[1;33m.\u001b[0m\u001b[0mread_csv\u001b[0m\u001b[1;33m(\u001b[0m\u001b[0mpath\u001b[0m\u001b[1;33m,\u001b[0m\u001b[0mindex_col\u001b[0m \u001b[1;33m=\u001b[0m \u001b[1;36m0\u001b[0m\u001b[1;33m)\u001b[0m\u001b[1;33m\u001b[0m\u001b[1;33m\u001b[0m\u001b[0m\n\u001b[0m\u001b[0;32m     14\u001b[0m                 \u001b[1;33m.\u001b[0m\u001b[0mreplace\u001b[0m\u001b[1;33m(\u001b[0m\u001b[1;34m\"\"\u001b[0m\u001b[1;33m,\u001b[0m\u001b[0mfloat\u001b[0m\u001b[1;33m(\u001b[0m\u001b[1;34m\"NaN\"\u001b[0m\u001b[1;33m)\u001b[0m\u001b[1;33m,\u001b[0m\u001b[0minplace\u001b[0m\u001b[1;33m=\u001b[0m\u001b[1;32mTrue\u001b[0m\u001b[1;33m)\u001b[0m\u001b[1;33m\u001b[0m\u001b[1;33m\u001b[0m\u001b[0m\n\u001b[0;32m     15\u001b[0m                 \u001b[1;33m.\u001b[0m\u001b[0mdropna\u001b[0m\u001b[1;33m(\u001b[0m\u001b[0minplace\u001b[0m \u001b[1;33m=\u001b[0m \u001b[1;32mTrue\u001b[0m\u001b[1;33m)\u001b[0m\u001b[1;33m\u001b[0m\u001b[1;33m\u001b[0m\u001b[0m\n",
      "\u001b[1;31mAttributeError\u001b[0m: 'NoneType' object has no attribute 'dropna'"
     ]
    }
   ],
   "source": [
    "import FunctionScript\n",
    "df = FunctionScript.LoadnClean(\"C:\\\\Users\\\\nick3\\\\OneDrive\\\\Desktop\\\\COSC_301\\\\Project2\\\\group07-Project\\\\data\\\\raw\\\\defaultofcreditcardclients.csv\")\n",
    "plt.subplots(figsize=(30, 10))\n",
    "plot = sns.countplot(x=\"Age\", hue=\"Default\", data=df)\n",
    "plt.ylabel('Count of Defaults',fontsize=18)\n",
    "plt.xlabel('Age by years',fontsize=15)\n",
    "plt.title(\"What age's are most likely to default?\",fontsize=30)\n",
    "sns.despine()"
   ]
  },
  {
   "cell_type": "markdown",
   "id": "704bf2a9",
   "metadata": {},
   "source": [
    "This graph shows that the ages between 24 and 29 are the most likely to default on their payments. \n",
    "Although it is expected, this dataset also favours this age group as they consist of the majority of the data. "
   ]
  },
  {
   "cell_type": "code",
   "execution_count": null,
   "id": "8d96dc1d",
   "metadata": {},
   "outputs": [],
   "source": [
    "FunctionScript.AgevsDefault(df)\n"
   ]
  },
  {
   "cell_type": "markdown",
   "id": "8effabe5",
   "metadata": {},
   "source": [
    "The above graph was produced to show a normalized distribution. This one in particular illustrations the percentage of each age group's default count. This removes the datasets offset of age bias. This graph also shows a different age group as the most likely to default. Visually it appears that 73 years old is 80% likely to default, but this may be bias or outliers in the dataset. Therefore, ages 60 and 61 have the most common trend up, and down after them.\n",
    "\n",
    "This is a completely different generation than expected when first looking at the data, but shows that per data of each age group, 60 year olds are most likely to default."
   ]
  },
  {
   "cell_type": "markdown",
   "id": "54144ce7",
   "metadata": {},
   "source": [
    "### **Question 2:**\n",
    "##### How often should you pay your credit card bill to be considered a \"safe lender\"?"
   ]
  },
  {
   "cell_type": "markdown",
   "id": "433e3b3f",
   "metadata": {},
   "source": []
  },
  {
   "cell_type": "code",
   "execution_count": null,
   "id": "cbd2dc84",
   "metadata": {},
   "outputs": [],
   "source": [
    "import FunctionScript\n",
    "DF = (FunctionScript.JustPayments(\"C:\\\\Users\\\\samff\\\\Cosc301Path\\\\group07-Project\\\\data\\\\raw\\\\defaultofcreditcardclients.csv\"))\n",
    "DF2 = FunctionScript.Defaulters(DF)\n",
    "df = FunctionScript.LoadnClean(\"C:\\\\Users\\\\samff\\\\Cosc301Path\\\\group07-Project\\\\data\\\\raw\\\\defaultofcreditcardclients.csv\")\n",
    "plt.subplots(figsize=(20, 10))\n",
    "ax = sns.lineplot(x=\"Credit Limit\", y=\"Payment_Score\", hue=\"Default\",data=df)\n",
    "ax.set(xlim=(0,500000))\n",
    "ax.set(ylim=(-.20,2.5))\n",
    "ax.set_title('Payment Score Vs. Credit Limit Comparing Defaulted Payments',fontsize=30)\n",
    "plt.show()"
   ]
  },
  {
   "cell_type": "code",
   "execution_count": null,
   "id": "9b596544",
   "metadata": {},
   "outputs": [],
   "source": [
    "plt.subplots(figsize=(20, 10))\n",
    "ax = sns.lineplot(x=\"Age\", y=\"Payment_Score\", hue=\"Default\",data=df)\n",
    "ax.set(xlim=(20,75))\n",
    "ax.set(ylim=(-.20,2.5))\n",
    "ax.set_title('Payment Score Vs. Age Comparing Defaulted Payments',fontsize=30)\n",
    "plt.show()"
   ]
  },
  {
   "cell_type": "code",
   "execution_count": null,
   "id": "de580d48",
   "metadata": {},
   "outputs": [],
   "source": [
    "sns.violinplot(data=df, y='Payment_Score', x='Default').set(title='Payment defaults as a function of Past Payment \"Score\"'\n",
    "                                                   ,xlabel='Payment Defaults)'\n",
    "                                                   ,ylabel='Payment Score')\n",
    "bx = sns.stripplot(x='Default',\n",
    "                   y = 'Payment_Score',\n",
    "                   data = df,\n",
    "                  palette='husl', alpha=0.025)\n",
    "bx.set_title('Payment defaults as a function of Past Payment Score',fontsize=16)\n",
    "plt.show()"
   ]
  },
  {
   "cell_type": "markdown",
   "id": "74587082",
   "metadata": {},
   "source": [
    "As can be observed from the above figures, the ideal customer to lend to exhibits a correlation with payment scores, or the frequency of payments made.  A good customer ideally will not default their payments. as can be seen in the first two figures of this section, there lies a large gap between customers who have defaulted and have not defaulted where the data is most dense (a majority of data lies in a lower credit score and ages 20-30 as seen in our preliminary EDA).  It can be inferred that as this data is setup with an averaged payment schedule distributed across 5 months that anyone with a payment score below one should tend to be a good customer. As the curve progresses, the  data depicts a fuzzy trend which stems from the smaller sample size and more wild points from sporadically high credit limits and/or elderly purchase tendancies."
   ]
  },
  {
   "cell_type": "markdown",
   "id": "7ae6dc1c",
   "metadata": {},
   "source": [
    "### **Question 3:**"
   ]
  },
  {
   "cell_type": "code",
   "execution_count": null,
   "id": "e587edc2",
   "metadata": {},
   "outputs": [],
   "source": [
    "import FunctionScript\n",
    "df = FunctionScript.LoadnClean('G:\\\\COSC301\\\\project\\\\group07-Project\\\\data\\\\raw\\\\defaultofcreditcardclients.csv')\n",
    "plt.subplots(figsize = (30, 10))\n",
    "sns.violinplot(data = df, x= 'Credit Limit', y= 'Default', hue = 'Sex', split = True, inner = \"quartile\", scale = 'count', cut = 0)\n",
    "plt.ticklabel_format(axis=\"x\", style=\"plain\")\n",
    "plt.ylabel('Default Status', fontsize = 18)\n",
    "plt.xlabel('Credit Limit (NT$)', fontsize = 18)\n",
    "plt.title(\"Default Status by Credit Limit and Gender\", fontsize = 30)\n",
    "sns.despine()"
   ]
  },
  {
   "cell_type": "markdown",
   "id": "efd6466a",
   "metadata": {},
   "source": [
    "The probability of defaulting does not increase with credit limit. As can be seen with the quartile markings, lower credits are more likely to default with the half quartile point for defaults significantly less than the half quartile of non-default. Interestingly, females will have higher credit limits and similarily a slightly larger value for defaults."
   ]
  },
  {
   "cell_type": "code",
   "execution_count": null,
   "id": "3d17b941",
   "metadata": {},
   "outputs": [],
   "source": []
  }
 ],
 "metadata": {
  "kernelspec": {
   "display_name": "Python 3 (ipykernel)",
   "language": "python",
   "name": "python3"
  },
  "language_info": {
   "codemirror_mode": {
    "name": "ipython",
    "version": 3
   },
   "file_extension": ".py",
   "mimetype": "text/x-python",
   "name": "python",
   "nbconvert_exporter": "python",
   "pygments_lexer": "ipython3",
   "version": "3.9.1"
  }
 },
 "nbformat": 4,
 "nbformat_minor": 5
}
